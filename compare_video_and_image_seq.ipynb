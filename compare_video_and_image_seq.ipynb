{
 "cells": [
  {
   "cell_type": "code",
   "execution_count": 21,
   "id": "6e58cc3d",
   "metadata": {},
   "outputs": [],
   "source": [
    "import pims\n",
    "import os\n",
    "import cv2\n",
    "from PIL import Image\n",
    "import numpy as np\n",
    "framenames = sorted(os.listdir(image_dir))\n",
    "video_path = \"/media/andivanov/DATA/VideoMatte240K/test/pha/0001.mp4\"\n",
    "image_dir = \"/media/andivanov/DATA/VideoMatte240K_JPEG_HD/test/pha/0001\"\n",
    "video = pims.PyAVVideoReader(video_path)"
   ]
  },
  {
   "cell_type": "code",
   "execution_count": null,
   "id": "34b2b729",
   "metadata": {},
   "outputs": [],
   "source": [
    "img = cv2.imread(os.path.join(image_dir, \"00000.jpg\"), cv2.IMREAD_GRAYSCALE)"
   ]
  },
  {
   "cell_type": "code",
   "execution_count": 45,
   "id": "1ab146c3",
   "metadata": {},
   "outputs": [
    {
     "name": "stdout",
     "output_type": "stream",
     "text": [
      "(2160, 3840) (2160, 3840)\n"
     ]
    }
   ],
   "source": [
    "framenames = sorted(os.listdir(image_dir))\n",
    "assert (len(framenames) == len(video))\n",
    "# for t, framename in enumerate(framenames):\n",
    "img = cv2.imread(os.path.join(image_dir, \"00000.jpg\"), cv2.IMREAD_GRAYSCALE) / 255\n",
    "video_frame = np.asarray(Image.fromarray(video[0]).convert(\"L\")) / 255\n",
    "print(img.shape, video_frame.shape)"
   ]
  },
  {
   "cell_type": "code",
   "execution_count": 44,
   "id": "ed5cd481",
   "metadata": {},
   "outputs": [
    {
     "data": {
      "text/plain": [
       "255"
      ]
     },
     "execution_count": 44,
     "metadata": {},
     "output_type": "execute_result"
    }
   ],
   "source": [
    "video_frame.max()"
   ]
  },
  {
   "cell_type": "code",
   "execution_count": 38,
   "id": "d4cf709c",
   "metadata": {},
   "outputs": [
    {
     "data": {
      "text/plain": [
       "903556.7450980373"
      ]
     },
     "execution_count": 38,
     "metadata": {},
     "output_type": "execute_result"
    }
   ],
   "source": [
    "img.sum()"
   ]
  },
  {
   "cell_type": "code",
   "execution_count": 52,
   "id": "6d624436",
   "metadata": {},
   "outputs": [
    {
     "data": {
      "text/plain": [
       "0.003857409137533207"
      ]
     },
     "execution_count": 52,
     "metadata": {},
     "output_type": "execute_result"
    }
   ],
   "source": [
    "diff = img - video_frame\n",
    "diff_mask = (img - video_frame) != 0\n",
    "diff[diff_mask].mean()"
   ]
  },
  {
   "cell_type": "code",
   "execution_count": 43,
   "id": "79621db3",
   "metadata": {},
   "outputs": [
    {
     "data": {
      "text/plain": [
       "True"
      ]
     },
     "execution_count": 43,
     "metadata": {},
     "output_type": "execute_result"
    }
   ],
   "source": [
    "cv2.imwrite('diff.png', img - video_frame)\n",
    "cv2.imwrite('video_frame.png', video_frame)\n",
    "cv2.imwrite('img.png', img)"
   ]
  }
 ],
 "metadata": {
  "kernelspec": {
   "display_name": "Python 3",
   "language": "python",
   "name": "python3"
  },
  "language_info": {
   "codemirror_mode": {
    "name": "ipython",
    "version": 3
   },
   "file_extension": ".py",
   "mimetype": "text/x-python",
   "name": "python",
   "nbconvert_exporter": "python",
   "pygments_lexer": "ipython3",
   "version": "3.8.3"
  }
 },
 "nbformat": 4,
 "nbformat_minor": 5
}
